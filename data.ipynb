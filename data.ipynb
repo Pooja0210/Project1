{
 "cells": [
  {
   "cell_type": "code",
   "execution_count": 2,
   "metadata": {},
   "outputs": [],
   "source": [
    "import re\n",
    "pattern = \"^en\"\n",
    "\n",
    "raw_data = open(\"data.txt\", \"r\", encoding=\"utf8\")\n",
    "formated_data = open(\"formated_01.txt\", \"a+\", encoding=\"utf8\")\n",
    "\n",
    "for i in raw_data:\n",
    "    sent = re.match(pattern, str(i).strip(\"\\n\"))\n",
    "    if sent:\n",
    "        formated_data.write(sent.string + \"\\n\")\n",
    "raw_data.close()\n",
    "formated_data.close()"
   ]
  },
  {
   "cell_type": "code",
   "execution_count": null,
   "metadata": {},
   "outputs": [],
   "source": []
  }
 ],
 "metadata": {
  "kernelspec": {
   "display_name": "Python 3",
   "language": "python",
   "name": "python3"
  },
  "language_info": {
   "codemirror_mode": {
    "name": "ipython",
    "version": 3
   },
   "file_extension": ".py",
   "mimetype": "text/x-python",
   "name": "python",
   "nbconvert_exporter": "python",
   "pygments_lexer": "ipython3",
   "version": "3.7.1"
  }
 },
 "nbformat": 4,
 "nbformat_minor": 2
}
